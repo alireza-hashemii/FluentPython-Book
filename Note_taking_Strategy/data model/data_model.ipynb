{
 "cells": [
  {
   "cell_type": "code",
   "execution_count": null,
   "metadata": {},
   "outputs": [],
   "source": [
    "import collections\n",
    "\n",
    "Card = collections.namedtuple(\"Card\",['rank', 'suit'])\n",
    "\n",
    "class Deck:\n",
    "    ranks = [str(rank) for rank in range(2,11)] + list(\"JQKA\")\n",
    "    suits = 'spades shades diamonds hearts'.split()\n",
    "\n",
    "    def __init__(self) -> None:\n",
    "      self._cards = [Card(rank , suit) for rank in self.ranks  \n",
    "                                       for suit in self.suits]\n",
    "    \n",
    "    def __len__(self):\n",
    "       return len(self._cards)\n",
    "    \n",
    "    def __getitem__(self, position):\n",
    "       return self._cards[position]\n",
    "\n",
    "sample_deck = Deck()\n",
    "for card in sample_deck:\n",
    "   print(card)\n",
    "    "
   ]
  }
 ],
 "metadata": {
  "kernelspec": {
   "display_name": "Python 3",
   "language": "python",
   "name": "python3"
  },
  "language_info": {
   "codemirror_mode": {
    "name": "ipython",
    "version": 3
   },
   "file_extension": ".py",
   "mimetype": "text/x-python",
   "name": "python",
   "nbconvert_exporter": "python",
   "pygments_lexer": "ipython3",
   "version": "3.10.5"
  }
 },
 "nbformat": 4,
 "nbformat_minor": 2
}
