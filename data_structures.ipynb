{
 "cells": [
  {
   "cell_type": "code",
   "execution_count": null,
   "metadata": {},
   "outputs": [],
   "source": [
    "colors = [\"white\", \"red\", \"green\"]\n",
    "sizes = [\"M\", \"L\", \"XL\", \"XXL\"]\n",
    "for color in colors:\n",
    "    for size in sizes:\n",
    "        print((color,size))"
   ]
  },
  {
   "cell_type": "code",
   "execution_count": null,
   "metadata": {},
   "outputs": [],
   "source": [
    "generated_list = [(color, size) for color in colors for size in sizes]\n",
    "print(generated_list)"
   ]
  },
  {
   "cell_type": "code",
   "execution_count": 8,
   "metadata": {},
   "outputs": [
    {
     "name": "stdout",
     "output_type": "stream",
     "text": [
      "white:M\n",
      "<class 'str'>\n",
      "white:L\n",
      "<class 'str'>\n",
      "white:XL\n",
      "<class 'str'>\n",
      "white:XXL\n",
      "<class 'str'>\n",
      "red:M\n",
      "<class 'str'>\n",
      "red:L\n",
      "<class 'str'>\n",
      "red:XL\n",
      "<class 'str'>\n",
      "red:XXL\n",
      "<class 'str'>\n",
      "green:M\n",
      "<class 'str'>\n",
      "green:L\n",
      "<class 'str'>\n",
      "green:XL\n",
      "<class 'str'>\n",
      "green:XXL\n",
      "<class 'str'>\n"
     ]
    }
   ],
   "source": [
    "for item in (f\"{c}:{s}\" for c in colors for s in sizes):\n",
    "    print(item)\n",
    "    print(type(item))"
   ]
  }
 ],
 "metadata": {
  "kernelspec": {
   "display_name": "Python 3",
   "language": "python",
   "name": "python3"
  },
  "language_info": {
   "codemirror_mode": {
    "name": "ipython",
    "version": 3
   },
   "file_extension": ".py",
   "mimetype": "text/x-python",
   "name": "python",
   "nbconvert_exporter": "python",
   "pygments_lexer": "ipython3",
   "version": "3.10.5"
  }
 },
 "nbformat": 4,
 "nbformat_minor": 2
}
