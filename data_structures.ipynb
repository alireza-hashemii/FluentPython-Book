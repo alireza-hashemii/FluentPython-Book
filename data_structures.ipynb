{
 "cells": [
  {
   "cell_type": "code",
   "execution_count": null,
   "metadata": {},
   "outputs": [],
   "source": [
    "colors = [\"white\", \"red\", \"green\"]\n",
    "sizes = [\"M\", \"L\", \"XL\", \"XXL\"]\n",
    "for color in colors:\n",
    "    for size in sizes:\n",
    "        print((color,size))"
   ]
  },
  {
   "cell_type": "code",
   "execution_count": null,
   "metadata": {},
   "outputs": [],
   "source": [
    "generated_list = [(color, size) for color in colors for size in sizes]\n",
    "print(generated_list)"
   ]
  },
  {
   "cell_type": "code",
   "execution_count": null,
   "metadata": {},
   "outputs": [],
   "source": [
    "for item in (f\"{c}:{s}\" for c in colors for s in sizes):\n",
    "    print(item)\n",
    "    print(type(item))"
   ]
  },
  {
   "cell_type": "code",
   "execution_count": null,
   "metadata": {},
   "outputs": [],
   "source": [
    "t = (20,8)\n",
    "qo , rem = divmod(*t)\n"
   ]
  },
  {
   "cell_type": "code",
   "execution_count": null,
   "metadata": {},
   "outputs": [],
   "source": [
    "a, b , *rest= range(5)\n",
    "print(a)\n",
    "print(b)\n",
    "print(rest)"
   ]
  },
  {
   "cell_type": "code",
   "execution_count": null,
   "metadata": {},
   "outputs": [],
   "source": [
    "a , *mid ,c = range(10)\n",
    "print(mid) \n",
    "print(a) \n",
    "print(c) "
   ]
  },
  {
   "cell_type": "code",
   "execution_count": null,
   "metadata": {},
   "outputs": [],
   "source": [
    "def fun(a, b, c, d, *rest):\n",
    "    return a, b, c, d, rest\n",
    "fun(*[1, 2], 3, *range(4, 7))"
   ]
  },
  {
   "cell_type": "code",
   "execution_count": 26,
   "metadata": {},
   "outputs": [
    {
     "name": "stdout",
     "output_type": "stream",
     "text": [
      "None\n"
     ]
    }
   ],
   "source": [
    "def status_checker(status):\n",
    "    match status:\n",
    "        case 400:\n",
    "            return \"Not Allowed\"\n",
    "        case 200:\n",
    "            return \"Succesfull\"\n",
    "        case 500:\n",
    "            return \"Server Error\"\n",
    "        case None:\n",
    "            return \"Unknown\"\n",
    "print(status_checker(34))"
   ]
  }
 ],
 "metadata": {
  "kernelspec": {
   "display_name": "Python 3",
   "language": "python",
   "name": "python3"
  },
  "language_info": {
   "codemirror_mode": {
    "name": "ipython",
    "version": 3
   },
   "file_extension": ".py",
   "mimetype": "text/x-python",
   "name": "python",
   "nbconvert_exporter": "python",
   "pygments_lexer": "ipython3",
   "version": "3.10.5"
  }
 },
 "nbformat": 4,
 "nbformat_minor": 2
}
